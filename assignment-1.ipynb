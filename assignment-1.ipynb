{
 "cells": [
  {
   "cell_type": "code",
   "execution_count": 54,
   "id": "0fe9ec2f",
   "metadata": {},
   "outputs": [],
   "source": [
    "import pandas as pd"
   ]
  },
  {
   "cell_type": "code",
   "execution_count": 55,
   "id": "9f7e9719",
   "metadata": {},
   "outputs": [
    {
     "data": {
      "text/html": [
       "<div>\n",
       "<style scoped>\n",
       "    .dataframe tbody tr th:only-of-type {\n",
       "        vertical-align: middle;\n",
       "    }\n",
       "\n",
       "    .dataframe tbody tr th {\n",
       "        vertical-align: top;\n",
       "    }\n",
       "\n",
       "    .dataframe thead th {\n",
       "        text-align: right;\n",
       "    }\n",
       "</style>\n",
       "<table border=\"1\" class=\"dataframe\">\n",
       "  <thead>\n",
       "    <tr style=\"text-align: right;\">\n",
       "      <th></th>\n",
       "      <th>order_id</th>\n",
       "      <th>customer_id</th>\n",
       "      <th>order_date</th>\n",
       "      <th>product_id</th>\n",
       "      <th>product_name</th>\n",
       "      <th>product_price</th>\n",
       "      <th>quantity</th>\n",
       "    </tr>\n",
       "  </thead>\n",
       "  <tbody>\n",
       "    <tr>\n",
       "      <th>0</th>\n",
       "      <td>1</td>\n",
       "      <td>101</td>\n",
       "      <td>10/1/2023</td>\n",
       "      <td>201</td>\n",
       "      <td>A</td>\n",
       "      <td>1000</td>\n",
       "      <td>1</td>\n",
       "    </tr>\n",
       "    <tr>\n",
       "      <th>1</th>\n",
       "      <td>2</td>\n",
       "      <td>102</td>\n",
       "      <td>10/2/2023</td>\n",
       "      <td>202</td>\n",
       "      <td>B</td>\n",
       "      <td>500</td>\n",
       "      <td>2</td>\n",
       "    </tr>\n",
       "    <tr>\n",
       "      <th>2</th>\n",
       "      <td>3</td>\n",
       "      <td>103</td>\n",
       "      <td>10/2/2023</td>\n",
       "      <td>203</td>\n",
       "      <td>C</td>\n",
       "      <td>300</td>\n",
       "      <td>1</td>\n",
       "    </tr>\n",
       "    <tr>\n",
       "      <th>3</th>\n",
       "      <td>4</td>\n",
       "      <td>104</td>\n",
       "      <td>10/3/2023</td>\n",
       "      <td>204</td>\n",
       "      <td>D</td>\n",
       "      <td>4000</td>\n",
       "      <td>2</td>\n",
       "    </tr>\n",
       "    <tr>\n",
       "      <th>4</th>\n",
       "      <td>5</td>\n",
       "      <td>105</td>\n",
       "      <td>10/4/2023</td>\n",
       "      <td>205</td>\n",
       "      <td>E</td>\n",
       "      <td>3000</td>\n",
       "      <td>3</td>\n",
       "    </tr>\n",
       "    <tr>\n",
       "      <th>5</th>\n",
       "      <td>6</td>\n",
       "      <td>106</td>\n",
       "      <td>10/5/2023</td>\n",
       "      <td>206</td>\n",
       "      <td>F</td>\n",
       "      <td>6000</td>\n",
       "      <td>4</td>\n",
       "    </tr>\n",
       "    <tr>\n",
       "      <th>6</th>\n",
       "      <td>7</td>\n",
       "      <td>107</td>\n",
       "      <td>10/5/2023</td>\n",
       "      <td>207</td>\n",
       "      <td>G</td>\n",
       "      <td>7000</td>\n",
       "      <td>2</td>\n",
       "    </tr>\n",
       "    <tr>\n",
       "      <th>7</th>\n",
       "      <td>8</td>\n",
       "      <td>108</td>\n",
       "      <td>10/6/2023</td>\n",
       "      <td>208</td>\n",
       "      <td>I</td>\n",
       "      <td>2000</td>\n",
       "      <td>1</td>\n",
       "    </tr>\n",
       "    <tr>\n",
       "      <th>8</th>\n",
       "      <td>9</td>\n",
       "      <td>109</td>\n",
       "      <td>10/7/2023</td>\n",
       "      <td>209</td>\n",
       "      <td>J</td>\n",
       "      <td>15000</td>\n",
       "      <td>2</td>\n",
       "    </tr>\n",
       "    <tr>\n",
       "      <th>9</th>\n",
       "      <td>10</td>\n",
       "      <td>110</td>\n",
       "      <td>10/8/2023</td>\n",
       "      <td>210</td>\n",
       "      <td>K</td>\n",
       "      <td>1520</td>\n",
       "      <td>3</td>\n",
       "    </tr>\n",
       "    <tr>\n",
       "      <th>10</th>\n",
       "      <td>11</td>\n",
       "      <td>111</td>\n",
       "      <td>10/9/2023</td>\n",
       "      <td>211</td>\n",
       "      <td>L</td>\n",
       "      <td>1320</td>\n",
       "      <td>4</td>\n",
       "    </tr>\n",
       "    <tr>\n",
       "      <th>11</th>\n",
       "      <td>12</td>\n",
       "      <td>112</td>\n",
       "      <td>10/3/2023</td>\n",
       "      <td>212</td>\n",
       "      <td>M</td>\n",
       "      <td>1600</td>\n",
       "      <td>5</td>\n",
       "    </tr>\n",
       "    <tr>\n",
       "      <th>12</th>\n",
       "      <td>13</td>\n",
       "      <td>113</td>\n",
       "      <td>10/4/2023</td>\n",
       "      <td>213</td>\n",
       "      <td>N</td>\n",
       "      <td>1800</td>\n",
       "      <td>2</td>\n",
       "    </tr>\n",
       "    <tr>\n",
       "      <th>13</th>\n",
       "      <td>14</td>\n",
       "      <td>114</td>\n",
       "      <td>10/5/2023</td>\n",
       "      <td>214</td>\n",
       "      <td>O</td>\n",
       "      <td>5000</td>\n",
       "      <td>6</td>\n",
       "    </tr>\n",
       "  </tbody>\n",
       "</table>\n",
       "</div>"
      ],
      "text/plain": [
       "    order_id  customer_id order_date  product_id product_name  product_price  \\\n",
       "0          1          101  10/1/2023         201            A           1000   \n",
       "1          2          102  10/2/2023         202            B            500   \n",
       "2          3          103  10/2/2023         203            C            300   \n",
       "3          4          104  10/3/2023         204            D           4000   \n",
       "4          5          105  10/4/2023         205            E           3000   \n",
       "5          6          106  10/5/2023         206            F           6000   \n",
       "6          7          107  10/5/2023         207            G           7000   \n",
       "7          8          108  10/6/2023         208            I           2000   \n",
       "8          9          109  10/7/2023         209            J          15000   \n",
       "9         10          110  10/8/2023         210            K           1520   \n",
       "10        11          111  10/9/2023         211            L           1320   \n",
       "11        12          112  10/3/2023         212            M           1600   \n",
       "12        13          113  10/4/2023         213            N           1800   \n",
       "13        14          114  10/5/2023         214            O           5000   \n",
       "\n",
       "    quantity  \n",
       "0          1  \n",
       "1          2  \n",
       "2          1  \n",
       "3          2  \n",
       "4          3  \n",
       "5          4  \n",
       "6          2  \n",
       "7          1  \n",
       "8          2  \n",
       "9          3  \n",
       "10         4  \n",
       "11         5  \n",
       "12         2  \n",
       "13         6  "
      ]
     },
     "execution_count": 55,
     "metadata": {},
     "output_type": "execute_result"
    }
   ],
   "source": [
    "df = pd.read_csv('C:\\\\Users\\\\Ranjeet\\\\Desktop\\\\order.csv')\n",
    "df"
   ]
  },
  {
   "cell_type": "code",
   "execution_count": 56,
   "id": "74b60913",
   "metadata": {},
   "outputs": [],
   "source": [
    "from datetime import datetime\n",
    "df['order_date'] = pd.to_datetime(df['order_date'], errors='coerce')"
   ]
  },
  {
   "cell_type": "code",
   "execution_count": 57,
   "id": "1d9336b1",
   "metadata": {},
   "outputs": [
    {
     "data": {
      "text/plain": [
       "0    2023-10-01\n",
       "1    2023-10-02\n",
       "2    2023-10-02\n",
       "3    2023-10-03\n",
       "4    2023-10-04\n",
       "5    2023-10-05\n",
       "6    2023-10-05\n",
       "7    2023-10-06\n",
       "8    2023-10-07\n",
       "9    2023-10-08\n",
       "10   2023-10-09\n",
       "11   2023-10-03\n",
       "12   2023-10-04\n",
       "13   2023-10-05\n",
       "Name: order_date, dtype: datetime64[ns]"
      ]
     },
     "execution_count": 57,
     "metadata": {},
     "output_type": "execute_result"
    }
   ],
   "source": [
    "df['order_date']"
   ]
  },
  {
   "cell_type": "code",
   "execution_count": 58,
   "id": "83db17f6",
   "metadata": {},
   "outputs": [
    {
     "data": {
      "text/plain": [
       "0     2023-10\n",
       "1     2023-10\n",
       "2     2023-10\n",
       "3     2023-10\n",
       "4     2023-10\n",
       "5     2023-10\n",
       "6     2023-10\n",
       "7     2023-10\n",
       "8     2023-10\n",
       "9     2023-10\n",
       "10    2023-10\n",
       "11    2023-10\n",
       "12    2023-10\n",
       "13    2023-10\n",
       "Name: month, dtype: period[M]"
      ]
     },
     "execution_count": 58,
     "metadata": {},
     "output_type": "execute_result"
    }
   ],
   "source": [
    "df['month'] = df['order_date'].dt.to_period('M')\n",
    "df['month']"
   ]
  },
  {
   "cell_type": "code",
   "execution_count": 59,
   "id": "53a798cd",
   "metadata": {},
   "outputs": [],
   "source": [
    "# Task 1: Compute total revenue generated by the online store for each month\n",
    "monthly_revenue = df.groupby('month')['product_price'].sum()"
   ]
  },
  {
   "cell_type": "code",
   "execution_count": 60,
   "id": "ad1b72cb",
   "metadata": {},
   "outputs": [
    {
     "name": "stdout",
     "output_type": "stream",
     "text": [
      "Total revenue generated by the online store for each month:\n",
      "month\n",
      "2023-10    50040\n",
      "Freq: M, Name: product_price, dtype: int64\n"
     ]
    }
   ],
   "source": [
    "print(\"Total revenue generated by the online store for each month:\")\n",
    "print(monthly_revenue)"
   ]
  },
  {
   "cell_type": "code",
   "execution_count": 61,
   "id": "1ac558c3",
   "metadata": {},
   "outputs": [],
   "source": [
    "# Task 2: Compute total revenue generated by each product\n",
    "product_revenue = df.groupby('product_name')['product_price'].sum()"
   ]
  },
  {
   "cell_type": "code",
   "execution_count": 62,
   "id": "d53d1dff",
   "metadata": {},
   "outputs": [
    {
     "name": "stdout",
     "output_type": "stream",
     "text": [
      "\n",
      "Total revenue generated by each product:\n",
      "product_name\n",
      "A     1000\n",
      "B      500\n",
      "C      300\n",
      "D     4000\n",
      "E     3000\n",
      "F     6000\n",
      "G     7000\n",
      "I     2000\n",
      "J    15000\n",
      "K     1520\n",
      "L     1320\n",
      "M     1600\n",
      "N     1800\n",
      "O     5000\n",
      "Name: product_price, dtype: int64\n"
     ]
    }
   ],
   "source": [
    "print(\"\\nTotal revenue generated by each product:\")\n",
    "print(product_revenue)"
   ]
  },
  {
   "cell_type": "code",
   "execution_count": 63,
   "id": "a8610021",
   "metadata": {},
   "outputs": [],
   "source": [
    "# Task 3: Compute total revenue generated by each customer\n",
    "customer_revenue = df.groupby('customer_id')['product_price'].sum()"
   ]
  },
  {
   "cell_type": "code",
   "execution_count": 64,
   "id": "f3b7b5c1",
   "metadata": {},
   "outputs": [
    {
     "name": "stdout",
     "output_type": "stream",
     "text": [
      "\n",
      "Total revenue generated by each customer:\n",
      "customer_id\n",
      "101     1000\n",
      "102      500\n",
      "103      300\n",
      "104     4000\n",
      "105     3000\n",
      "106     6000\n",
      "107     7000\n",
      "108     2000\n",
      "109    15000\n",
      "110     1520\n",
      "111     1320\n",
      "112     1600\n",
      "113     1800\n",
      "114     5000\n",
      "Name: product_price, dtype: int64\n"
     ]
    }
   ],
   "source": [
    "print(\"\\nTotal revenue generated by each customer:\")\n",
    "print(customer_revenue)"
   ]
  },
  {
   "cell_type": "code",
   "execution_count": 65,
   "id": "0a0c13d2",
   "metadata": {},
   "outputs": [],
   "source": [
    "# Task 4: Identify top 10 customers by revenue generated\n",
    "top_customers = customer_revenue.nlargest(10)"
   ]
  },
  {
   "cell_type": "code",
   "execution_count": 68,
   "id": "fb62c558",
   "metadata": {},
   "outputs": [
    {
     "name": "stdout",
     "output_type": "stream",
     "text": [
      "\n",
      "Top 10 customers by revenue generated:\n",
      "customer_id\n",
      "109    15000\n",
      "107     7000\n",
      "106     6000\n",
      "114     5000\n",
      "104     4000\n",
      "105     3000\n",
      "108     2000\n",
      "113     1800\n",
      "112     1600\n",
      "110     1520\n",
      "Name: product_price, dtype: int64\n"
     ]
    }
   ],
   "source": [
    "print(\"\\nTop 10 customers by revenue generated:\")\n",
    "print(top_customers)"
   ]
  },
  {
   "cell_type": "code",
   "execution_count": null,
   "id": "86259081",
   "metadata": {},
   "outputs": [],
   "source": []
  },
  {
   "cell_type": "code",
   "execution_count": null,
   "id": "ef7e46cc",
   "metadata": {},
   "outputs": [],
   "source": []
  }
 ],
 "metadata": {
  "kernelspec": {
   "display_name": "Python 3 (ipykernel)",
   "language": "python",
   "name": "python3"
  },
  "language_info": {
   "codemirror_mode": {
    "name": "ipython",
    "version": 3
   },
   "file_extension": ".py",
   "mimetype": "text/x-python",
   "name": "python",
   "nbconvert_exporter": "python",
   "pygments_lexer": "ipython3",
   "version": "3.9.13"
  }
 },
 "nbformat": 4,
 "nbformat_minor": 5
}
